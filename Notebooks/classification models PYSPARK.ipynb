{
 "cells": [
  {
   "cell_type": "code",
   "execution_count": 1,
   "id": "41791638",
   "metadata": {},
   "outputs": [],
   "source": [
    "from pyspark.sql import SparkSession"
   ]
  },
  {
   "cell_type": "code",
   "execution_count": 2,
   "id": "02e70458",
   "metadata": {},
   "outputs": [
    {
     "name": "stdout",
     "output_type": "stream",
     "text": [
      "23/02/02 12:06:47 WARN Utils: Your hostname, divum-Latitude-7490 resolves to a loopback address: 127.0.1.1; using 192.168.1.235 instead (on interface enp0s31f6)\n",
      "23/02/02 12:06:47 WARN Utils: Set SPARK_LOCAL_IP if you need to bind to another address\n"
     ]
    },
    {
     "name": "stderr",
     "output_type": "stream",
     "text": [
      "Setting default log level to \"WARN\".\n",
      "To adjust logging level use sc.setLogLevel(newLevel). For SparkR, use setLogLevel(newLevel).\n"
     ]
    },
    {
     "name": "stdout",
     "output_type": "stream",
     "text": [
      "23/02/02 12:06:48 WARN NativeCodeLoader: Unable to load native-hadoop library for your platform... using builtin-java classes where applicable\n"
     ]
    }
   ],
   "source": [
    "spark=SparkSession.builder.appName('logistic_regression').getOrCreate()"
   ]
  },
  {
   "cell_type": "code",
   "execution_count": 3,
   "id": "030c7f01",
   "metadata": {},
   "outputs": [
    {
     "data": {
      "text/html": [
       "\n",
       "            <div>\n",
       "                <p><b>SparkSession - in-memory</b></p>\n",
       "                \n",
       "        <div>\n",
       "            <p><b>SparkContext</b></p>\n",
       "\n",
       "            <p><a href=\"http://192.168.1.235:4040\">Spark UI</a></p>\n",
       "\n",
       "            <dl>\n",
       "              <dt>Version</dt>\n",
       "                <dd><code>v3.3.1</code></dd>\n",
       "              <dt>Master</dt>\n",
       "                <dd><code>local[*]</code></dd>\n",
       "              <dt>AppName</dt>\n",
       "                <dd><code>logistic_regression</code></dd>\n",
       "            </dl>\n",
       "        </div>\n",
       "        \n",
       "            </div>\n",
       "        "
      ],
      "text/plain": [
       "<pyspark.sql.session.SparkSession at 0x7fc909181ea0>"
      ]
     },
     "execution_count": 3,
     "metadata": {},
     "output_type": "execute_result"
    }
   ],
   "source": [
    "spark"
   ]
  },
  {
   "cell_type": "code",
   "execution_count": 4,
   "id": "17267fb2",
   "metadata": {},
   "outputs": [],
   "source": [
    "df=spark.read.option(\"header\",\"true\").csv(\"/home/divum/STUDY/PYSPARK/DATASETS/train.csv\",inferSchema=True)"
   ]
  },
  {
   "cell_type": "code",
   "execution_count": 5,
   "id": "8093ebee",
   "metadata": {},
   "outputs": [
    {
     "name": "stdout",
     "output_type": "stream",
     "text": [
      "root\n",
      " |-- PassengerId: integer (nullable = true)\n",
      " |-- Survived: integer (nullable = true)\n",
      " |-- Pclass: integer (nullable = true)\n",
      " |-- Name: string (nullable = true)\n",
      " |-- Sex: string (nullable = true)\n",
      " |-- Age: double (nullable = true)\n",
      " |-- SibSp: integer (nullable = true)\n",
      " |-- Parch: integer (nullable = true)\n",
      " |-- Ticket: string (nullable = true)\n",
      " |-- Fare: double (nullable = true)\n",
      " |-- Cabin: string (nullable = true)\n",
      " |-- Embarked: string (nullable = true)\n",
      "\n"
     ]
    }
   ],
   "source": [
    "df.printSchema()"
   ]
  },
  {
   "cell_type": "code",
   "execution_count": 6,
   "id": "26535add",
   "metadata": {},
   "outputs": [],
   "source": [
    "train_df=spark.read.csv(\"/home/divum/STUDY/PYSPARK/DATASETS/train.csv\",header=True,inferSchema=True)"
   ]
  },
  {
   "cell_type": "code",
   "execution_count": 7,
   "id": "15a78bce",
   "metadata": {},
   "outputs": [
    {
     "name": "stdout",
     "output_type": "stream",
     "text": [
      "+-----------+--------+------+--------------------+------+----+-----+-----+----------------+-------+-----+--------+\n",
      "|PassengerId|Survived|Pclass|                Name|   Sex| Age|SibSp|Parch|          Ticket|   Fare|Cabin|Embarked|\n",
      "+-----------+--------+------+--------------------+------+----+-----+-----+----------------+-------+-----+--------+\n",
      "|          1|       0|     3|Braund, Mr. Owen ...|  male|22.0|    1|    0|       A/5 21171|   7.25| null|       S|\n",
      "|          2|       1|     1|Cumings, Mrs. Joh...|female|38.0|    1|    0|        PC 17599|71.2833|  C85|       C|\n",
      "|          3|       1|     3|Heikkinen, Miss. ...|female|26.0|    0|    0|STON/O2. 3101282|  7.925| null|       S|\n",
      "|          4|       1|     1|Futrelle, Mrs. Ja...|female|35.0|    1|    0|          113803|   53.1| C123|       S|\n",
      "|          5|       0|     3|Allen, Mr. Willia...|  male|35.0|    0|    0|          373450|   8.05| null|       S|\n",
      "|          6|       0|     3|    Moran, Mr. James|  male|null|    0|    0|          330877| 8.4583| null|       Q|\n",
      "|          7|       0|     1|McCarthy, Mr. Tim...|  male|54.0|    0|    0|           17463|51.8625|  E46|       S|\n",
      "|          8|       0|     3|Palsson, Master. ...|  male| 2.0|    3|    1|          349909| 21.075| null|       S|\n",
      "|          9|       1|     3|Johnson, Mrs. Osc...|female|27.0|    0|    2|          347742|11.1333| null|       S|\n",
      "|         10|       1|     2|Nasser, Mrs. Nich...|female|14.0|    1|    0|          237736|30.0708| null|       C|\n",
      "|         11|       1|     3|Sandstrom, Miss. ...|female| 4.0|    1|    1|         PP 9549|   16.7|   G6|       S|\n",
      "|         12|       1|     1|Bonnell, Miss. El...|female|58.0|    0|    0|          113783|  26.55| C103|       S|\n",
      "|         13|       0|     3|Saundercock, Mr. ...|  male|20.0|    0|    0|       A/5. 2151|   8.05| null|       S|\n",
      "|         14|       0|     3|Andersson, Mr. An...|  male|39.0|    1|    5|          347082| 31.275| null|       S|\n",
      "|         15|       0|     3|Vestrom, Miss. Hu...|female|14.0|    0|    0|          350406| 7.8542| null|       S|\n",
      "|         16|       1|     2|Hewlett, Mrs. (Ma...|female|55.0|    0|    0|          248706|   16.0| null|       S|\n",
      "|         17|       0|     3|Rice, Master. Eugene|  male| 2.0|    4|    1|          382652| 29.125| null|       Q|\n",
      "|         18|       1|     2|Williams, Mr. Cha...|  male|null|    0|    0|          244373|   13.0| null|       S|\n",
      "|         19|       0|     3|Vander Planke, Mr...|female|31.0|    1|    0|          345763|   18.0| null|       S|\n",
      "|         20|       1|     3|Masselmani, Mrs. ...|female|null|    0|    0|            2649|  7.225| null|       C|\n",
      "+-----------+--------+------+--------------------+------+----+-----+-----+----------------+-------+-----+--------+\n",
      "only showing top 20 rows\n",
      "\n"
     ]
    }
   ],
   "source": [
    "train_df.show()"
   ]
  },
  {
   "cell_type": "code",
   "execution_count": 8,
   "id": "8f3c6ce4",
   "metadata": {},
   "outputs": [],
   "source": [
    "test_df=spark.read.csv(\"/home/divum/STUDY/PYSPARK/DATASETS/train.csv\",header=True,inferSchema=True)"
   ]
  },
  {
   "cell_type": "code",
   "execution_count": 9,
   "id": "3a606b68",
   "metadata": {},
   "outputs": [
    {
     "name": "stdout",
     "output_type": "stream",
     "text": [
      "+-----------+--------+------+--------------------+------+----+-----+-----+----------------+-------+-----+--------+\n",
      "|PassengerId|Survived|Pclass|                Name|   Sex| Age|SibSp|Parch|          Ticket|   Fare|Cabin|Embarked|\n",
      "+-----------+--------+------+--------------------+------+----+-----+-----+----------------+-------+-----+--------+\n",
      "|          1|       0|     3|Braund, Mr. Owen ...|  male|22.0|    1|    0|       A/5 21171|   7.25| null|       S|\n",
      "|          2|       1|     1|Cumings, Mrs. Joh...|female|38.0|    1|    0|        PC 17599|71.2833|  C85|       C|\n",
      "|          3|       1|     3|Heikkinen, Miss. ...|female|26.0|    0|    0|STON/O2. 3101282|  7.925| null|       S|\n",
      "|          4|       1|     1|Futrelle, Mrs. Ja...|female|35.0|    1|    0|          113803|   53.1| C123|       S|\n",
      "|          5|       0|     3|Allen, Mr. Willia...|  male|35.0|    0|    0|          373450|   8.05| null|       S|\n",
      "|          6|       0|     3|    Moran, Mr. James|  male|null|    0|    0|          330877| 8.4583| null|       Q|\n",
      "|          7|       0|     1|McCarthy, Mr. Tim...|  male|54.0|    0|    0|           17463|51.8625|  E46|       S|\n",
      "|          8|       0|     3|Palsson, Master. ...|  male| 2.0|    3|    1|          349909| 21.075| null|       S|\n",
      "|          9|       1|     3|Johnson, Mrs. Osc...|female|27.0|    0|    2|          347742|11.1333| null|       S|\n",
      "|         10|       1|     2|Nasser, Mrs. Nich...|female|14.0|    1|    0|          237736|30.0708| null|       C|\n",
      "|         11|       1|     3|Sandstrom, Miss. ...|female| 4.0|    1|    1|         PP 9549|   16.7|   G6|       S|\n",
      "|         12|       1|     1|Bonnell, Miss. El...|female|58.0|    0|    0|          113783|  26.55| C103|       S|\n",
      "|         13|       0|     3|Saundercock, Mr. ...|  male|20.0|    0|    0|       A/5. 2151|   8.05| null|       S|\n",
      "|         14|       0|     3|Andersson, Mr. An...|  male|39.0|    1|    5|          347082| 31.275| null|       S|\n",
      "|         15|       0|     3|Vestrom, Miss. Hu...|female|14.0|    0|    0|          350406| 7.8542| null|       S|\n",
      "|         16|       1|     2|Hewlett, Mrs. (Ma...|female|55.0|    0|    0|          248706|   16.0| null|       S|\n",
      "|         17|       0|     3|Rice, Master. Eugene|  male| 2.0|    4|    1|          382652| 29.125| null|       Q|\n",
      "|         18|       1|     2|Williams, Mr. Cha...|  male|null|    0|    0|          244373|   13.0| null|       S|\n",
      "|         19|       0|     3|Vander Planke, Mr...|female|31.0|    1|    0|          345763|   18.0| null|       S|\n",
      "|         20|       1|     3|Masselmani, Mrs. ...|female|null|    0|    0|            2649|  7.225| null|       C|\n",
      "+-----------+--------+------+--------------------+------+----+-----+-----+----------------+-------+-----+--------+\n",
      "only showing top 20 rows\n",
      "\n"
     ]
    }
   ],
   "source": [
    "test_df.show()"
   ]
  },
  {
   "cell_type": "code",
   "execution_count": 10,
   "id": "d10cfddf",
   "metadata": {},
   "outputs": [
    {
     "name": "stdout",
     "output_type": "stream",
     "text": [
      "root\n",
      " |-- PassengerId: integer (nullable = true)\n",
      " |-- Survived: integer (nullable = true)\n",
      " |-- Pclass: integer (nullable = true)\n",
      " |-- Name: string (nullable = true)\n",
      " |-- Sex: string (nullable = true)\n",
      " |-- Age: double (nullable = true)\n",
      " |-- SibSp: integer (nullable = true)\n",
      " |-- Parch: integer (nullable = true)\n",
      " |-- Ticket: string (nullable = true)\n",
      " |-- Fare: double (nullable = true)\n",
      " |-- Cabin: string (nullable = true)\n",
      " |-- Embarked: string (nullable = true)\n",
      "\n"
     ]
    }
   ],
   "source": [
    "test_df.printSchema()"
   ]
  },
  {
   "cell_type": "code",
   "execution_count": 11,
   "id": "9f8a6519",
   "metadata": {},
   "outputs": [
    {
     "name": "stderr",
     "output_type": "stream",
     "text": [
      "\r",
      "[Stage 8:>                                                          (0 + 1) / 1]\r"
     ]
    },
    {
     "name": "stdout",
     "output_type": "stream",
     "text": [
      "+-------+-----------------+-------------------+------------------+--------------------+------+------------------+------------------+-------------------+------------------+-----------------+-----+--------+\n",
      "|summary|      PassengerId|           Survived|            Pclass|                Name|   Sex|               Age|             SibSp|              Parch|            Ticket|             Fare|Cabin|Embarked|\n",
      "+-------+-----------------+-------------------+------------------+--------------------+------+------------------+------------------+-------------------+------------------+-----------------+-----+--------+\n",
      "|  count|              891|                891|               891|                 891|   891|               714|               891|                891|               891|              891|  204|     889|\n",
      "|   mean|            446.0| 0.3838383838383838| 2.308641975308642|                null|  null| 29.69911764705882|0.5230078563411896|0.38159371492704824|260318.54916792738| 32.2042079685746| null|    null|\n",
      "| stddev|257.3538420152301|0.48659245426485753|0.8360712409770491|                null|  null|14.526497332334035|1.1027434322934315| 0.8060572211299488|471609.26868834975|49.69342859718089| null|    null|\n",
      "|    min|                1|                  0|                 1|\"Andersson, Mr. A...|female|              0.42|                 0|                  0|            110152|              0.0|  A10|       C|\n",
      "|    max|              891|                  1|                 3|van Melkebeke, Mr...|  male|              80.0|                 8|                  6|         WE/P 5735|         512.3292|    T|       S|\n",
      "+-------+-----------------+-------------------+------------------+--------------------+------+------------------+------------------+-------------------+------------------+-----------------+-----+--------+\n",
      "\n"
     ]
    },
    {
     "name": "stderr",
     "output_type": "stream",
     "text": [
      "\r",
      "                                                                                \r"
     ]
    }
   ],
   "source": [
    "train_df.describe().show()"
   ]
  },
  {
   "cell_type": "code",
   "execution_count": 12,
   "id": "ce3552e3",
   "metadata": {},
   "outputs": [],
   "source": [
    "#Drop the columns\n",
    "train=train_df.drop(\"PassengerId\",\"Name\",\"Ticket\",\"Cabin\",\"Embarked\")"
   ]
  },
  {
   "cell_type": "code",
   "execution_count": 13,
   "id": "9e31900b",
   "metadata": {},
   "outputs": [
    {
     "name": "stdout",
     "output_type": "stream",
     "text": [
      "+--------+------+------+----+-----+-----+-------+\n",
      "|Survived|Pclass|   Sex| Age|SibSp|Parch|   Fare|\n",
      "+--------+------+------+----+-----+-----+-------+\n",
      "|       0|     3|  male|22.0|    1|    0|   7.25|\n",
      "|       1|     1|female|38.0|    1|    0|71.2833|\n",
      "|       1|     3|female|26.0|    0|    0|  7.925|\n",
      "|       1|     1|female|35.0|    1|    0|   53.1|\n",
      "|       0|     3|  male|35.0|    0|    0|   8.05|\n",
      "|       0|     3|  male|null|    0|    0| 8.4583|\n",
      "|       0|     1|  male|54.0|    0|    0|51.8625|\n",
      "|       0|     3|  male| 2.0|    3|    1| 21.075|\n",
      "|       1|     3|female|27.0|    0|    2|11.1333|\n",
      "|       1|     2|female|14.0|    1|    0|30.0708|\n",
      "|       1|     3|female| 4.0|    1|    1|   16.7|\n",
      "|       1|     1|female|58.0|    0|    0|  26.55|\n",
      "|       0|     3|  male|20.0|    0|    0|   8.05|\n",
      "|       0|     3|  male|39.0|    1|    5| 31.275|\n",
      "|       0|     3|female|14.0|    0|    0| 7.8542|\n",
      "|       1|     2|female|55.0|    0|    0|   16.0|\n",
      "|       0|     3|  male| 2.0|    4|    1| 29.125|\n",
      "|       1|     2|  male|null|    0|    0|   13.0|\n",
      "|       0|     3|female|31.0|    1|    0|   18.0|\n",
      "|       1|     3|female|null|    0|    0|  7.225|\n",
      "+--------+------+------+----+-----+-----+-------+\n",
      "only showing top 20 rows\n",
      "\n"
     ]
    }
   ],
   "source": [
    "train.show()"
   ]
  },
  {
   "cell_type": "code",
   "execution_count": 14,
   "id": "63892534",
   "metadata": {},
   "outputs": [],
   "source": [
    "test=test_df.drop(\"PassengerId\",\"Name\",\"Ticket\",\"Cabin\",\"Embarked\")"
   ]
  },
  {
   "cell_type": "code",
   "execution_count": 15,
   "id": "45bb5e98",
   "metadata": {},
   "outputs": [
    {
     "name": "stdout",
     "output_type": "stream",
     "text": [
      "+--------+------+------+----+-----+-----+-------+\n",
      "|Survived|Pclass|   Sex| Age|SibSp|Parch|   Fare|\n",
      "+--------+------+------+----+-----+-----+-------+\n",
      "|       0|     3|  male|22.0|    1|    0|   7.25|\n",
      "|       1|     1|female|38.0|    1|    0|71.2833|\n",
      "|       1|     3|female|26.0|    0|    0|  7.925|\n",
      "|       1|     1|female|35.0|    1|    0|   53.1|\n",
      "|       0|     3|  male|35.0|    0|    0|   8.05|\n",
      "|       0|     3|  male|null|    0|    0| 8.4583|\n",
      "|       0|     1|  male|54.0|    0|    0|51.8625|\n",
      "|       0|     3|  male| 2.0|    3|    1| 21.075|\n",
      "|       1|     3|female|27.0|    0|    2|11.1333|\n",
      "|       1|     2|female|14.0|    1|    0|30.0708|\n",
      "|       1|     3|female| 4.0|    1|    1|   16.7|\n",
      "|       1|     1|female|58.0|    0|    0|  26.55|\n",
      "|       0|     3|  male|20.0|    0|    0|   8.05|\n",
      "|       0|     3|  male|39.0|    1|    5| 31.275|\n",
      "|       0|     3|female|14.0|    0|    0| 7.8542|\n",
      "|       1|     2|female|55.0|    0|    0|   16.0|\n",
      "|       0|     3|  male| 2.0|    4|    1| 29.125|\n",
      "|       1|     2|  male|null|    0|    0|   13.0|\n",
      "|       0|     3|female|31.0|    1|    0|   18.0|\n",
      "|       1|     3|female|null|    0|    0|  7.225|\n",
      "+--------+------+------+----+-----+-----+-------+\n",
      "only showing top 20 rows\n",
      "\n"
     ]
    }
   ],
   "source": [
    "test.show()"
   ]
  },
  {
   "cell_type": "code",
   "execution_count": 16,
   "id": "21d3c44a",
   "metadata": {},
   "outputs": [
    {
     "name": "stdout",
     "output_type": "stream",
     "text": [
      "+--------+------+------+----+-----+-----+-------+\n",
      "|Survived|Pclass|   Sex| Age|SibSp|Parch|   Fare|\n",
      "+--------+------+------+----+-----+-----+-------+\n",
      "|       1|     1|female|24.0|    0|    0|83.1583|\n",
      "|       0|     3|  male|40.0|    0|    0|  7.225|\n",
      "|       0|     2|  male|31.0|    1|    1|37.0042|\n",
      "|       1|     1|female|null|    1|    0|89.1042|\n",
      "|       0|     1|  male|null|    0|    0|   50.0|\n",
      "|       1|     3|female|26.0|    0|    0| 7.8542|\n",
      "|       0|     3|female|10.0|    0|    2|  24.15|\n",
      "|       0|     3|  male|36.0|    0|    0| 7.4958|\n",
      "|       1|     1|female|38.0|    0|    0|227.525|\n",
      "|       1|     2|  male| 3.0|    1|    1|  18.75|\n",
      "|       1|     1|female|39.0|    1|    0|   55.9|\n",
      "|       0|     1|  male|40.0|    0|    0|27.7208|\n",
      "|       0|     1|  male|65.0|    0|    1|61.9792|\n",
      "|       1|     1|female|null|    0|    1|   55.0|\n",
      "|       1|     2|female|30.0|    0|    0|   13.0|\n",
      "|       1|     2|female|29.0|    1|    0|   26.0|\n",
      "|       1|     3|female|27.0|    0|    0|  7.925|\n",
      "|       1|     3|  male|25.0|    0|    0|    0.0|\n",
      "|       1|     1|  male|48.0|    1|    0|76.7292|\n",
      "|       0|     2|  male|39.0|    0|    0|   26.0|\n",
      "+--------+------+------+----+-----+-----+-------+\n",
      "only showing top 20 rows\n",
      "\n"
     ]
    }
   ],
   "source": [
    "test.distinct().show()"
   ]
  },
  {
   "cell_type": "code",
   "execution_count": 17,
   "id": "ee0b90df",
   "metadata": {},
   "outputs": [],
   "source": [
    " from pyspark.ml.feature import StringIndexer"
   ]
  },
  {
   "cell_type": "code",
   "execution_count": 18,
   "id": "dcc1d4a1",
   "metadata": {},
   "outputs": [],
   "source": [
    "train=train.na.drop()"
   ]
  },
  {
   "cell_type": "code",
   "execution_count": 19,
   "id": "30005e81",
   "metadata": {},
   "outputs": [],
   "source": [
    "test=test.na.drop()"
   ]
  },
  {
   "cell_type": "code",
   "execution_count": 20,
   "id": "04f5e73a",
   "metadata": {},
   "outputs": [],
   "source": [
    "indexer=StringIndexer(inputCol=\"Sex\",outputCol=\"index_sex\")"
   ]
  },
  {
   "cell_type": "code",
   "execution_count": 21,
   "id": "bf7e1a96",
   "metadata": {},
   "outputs": [],
   "source": [
    "train_i=indexer.fit(train).transform(train)"
   ]
  },
  {
   "cell_type": "code",
   "execution_count": 22,
   "id": "061c46a6",
   "metadata": {},
   "outputs": [
    {
     "name": "stdout",
     "output_type": "stream",
     "text": [
      "+--------+------+------+----+-----+-----+-------+---------+\n",
      "|Survived|Pclass|   Sex| Age|SibSp|Parch|   Fare|index_sex|\n",
      "+--------+------+------+----+-----+-----+-------+---------+\n",
      "|       0|     3|  male|22.0|    1|    0|   7.25|      0.0|\n",
      "|       1|     1|female|38.0|    1|    0|71.2833|      1.0|\n",
      "|       1|     3|female|26.0|    0|    0|  7.925|      1.0|\n",
      "|       1|     1|female|35.0|    1|    0|   53.1|      1.0|\n",
      "|       0|     3|  male|35.0|    0|    0|   8.05|      0.0|\n",
      "|       0|     1|  male|54.0|    0|    0|51.8625|      0.0|\n",
      "|       0|     3|  male| 2.0|    3|    1| 21.075|      0.0|\n",
      "|       1|     3|female|27.0|    0|    2|11.1333|      1.0|\n",
      "|       1|     2|female|14.0|    1|    0|30.0708|      1.0|\n",
      "|       1|     3|female| 4.0|    1|    1|   16.7|      1.0|\n",
      "|       1|     1|female|58.0|    0|    0|  26.55|      1.0|\n",
      "|       0|     3|  male|20.0|    0|    0|   8.05|      0.0|\n",
      "|       0|     3|  male|39.0|    1|    5| 31.275|      0.0|\n",
      "|       0|     3|female|14.0|    0|    0| 7.8542|      1.0|\n",
      "|       1|     2|female|55.0|    0|    0|   16.0|      1.0|\n",
      "|       0|     3|  male| 2.0|    4|    1| 29.125|      0.0|\n",
      "|       0|     3|female|31.0|    1|    0|   18.0|      1.0|\n",
      "|       0|     2|  male|35.0|    0|    0|   26.0|      0.0|\n",
      "|       1|     2|  male|34.0|    0|    0|   13.0|      0.0|\n",
      "|       1|     3|female|15.0|    0|    0| 8.0292|      1.0|\n",
      "+--------+------+------+----+-----+-----+-------+---------+\n",
      "only showing top 20 rows\n",
      "\n"
     ]
    }
   ],
   "source": [
    "train_i.show()"
   ]
  },
  {
   "cell_type": "code",
   "execution_count": 23,
   "id": "f37f8476",
   "metadata": {},
   "outputs": [],
   "source": [
    "test_i=indexer.fit(test).transform(test)"
   ]
  },
  {
   "cell_type": "code",
   "execution_count": 24,
   "id": "2d5ba39f",
   "metadata": {},
   "outputs": [
    {
     "name": "stdout",
     "output_type": "stream",
     "text": [
      "+--------+------+------+----+-----+-----+-------+---------+\n",
      "|Survived|Pclass|   Sex| Age|SibSp|Parch|   Fare|index_sex|\n",
      "+--------+------+------+----+-----+-----+-------+---------+\n",
      "|       0|     3|  male|22.0|    1|    0|   7.25|      0.0|\n",
      "|       1|     1|female|38.0|    1|    0|71.2833|      1.0|\n",
      "|       1|     3|female|26.0|    0|    0|  7.925|      1.0|\n",
      "|       1|     1|female|35.0|    1|    0|   53.1|      1.0|\n",
      "|       0|     3|  male|35.0|    0|    0|   8.05|      0.0|\n",
      "|       0|     1|  male|54.0|    0|    0|51.8625|      0.0|\n",
      "|       0|     3|  male| 2.0|    3|    1| 21.075|      0.0|\n",
      "|       1|     3|female|27.0|    0|    2|11.1333|      1.0|\n",
      "|       1|     2|female|14.0|    1|    0|30.0708|      1.0|\n",
      "|       1|     3|female| 4.0|    1|    1|   16.7|      1.0|\n",
      "|       1|     1|female|58.0|    0|    0|  26.55|      1.0|\n",
      "|       0|     3|  male|20.0|    0|    0|   8.05|      0.0|\n",
      "|       0|     3|  male|39.0|    1|    5| 31.275|      0.0|\n",
      "|       0|     3|female|14.0|    0|    0| 7.8542|      1.0|\n",
      "|       1|     2|female|55.0|    0|    0|   16.0|      1.0|\n",
      "|       0|     3|  male| 2.0|    4|    1| 29.125|      0.0|\n",
      "|       0|     3|female|31.0|    1|    0|   18.0|      1.0|\n",
      "|       0|     2|  male|35.0|    0|    0|   26.0|      0.0|\n",
      "|       1|     2|  male|34.0|    0|    0|   13.0|      0.0|\n",
      "|       1|     3|female|15.0|    0|    0| 8.0292|      1.0|\n",
      "+--------+------+------+----+-----+-----+-------+---------+\n",
      "only showing top 20 rows\n",
      "\n"
     ]
    }
   ],
   "source": [
    "test_i.show()"
   ]
  },
  {
   "cell_type": "code",
   "execution_count": 25,
   "id": "79161c4a",
   "metadata": {},
   "outputs": [],
   "source": [
    "train_f=train_i.drop(\"Sex\")"
   ]
  },
  {
   "cell_type": "code",
   "execution_count": 26,
   "id": "4273ba59",
   "metadata": {},
   "outputs": [
    {
     "name": "stdout",
     "output_type": "stream",
     "text": [
      "+--------+------+----+-----+-----+-------+---------+\n",
      "|Survived|Pclass| Age|SibSp|Parch|   Fare|index_sex|\n",
      "+--------+------+----+-----+-----+-------+---------+\n",
      "|       0|     3|22.0|    1|    0|   7.25|      0.0|\n",
      "|       1|     1|38.0|    1|    0|71.2833|      1.0|\n",
      "|       1|     3|26.0|    0|    0|  7.925|      1.0|\n",
      "|       1|     1|35.0|    1|    0|   53.1|      1.0|\n",
      "|       0|     3|35.0|    0|    0|   8.05|      0.0|\n",
      "|       0|     1|54.0|    0|    0|51.8625|      0.0|\n",
      "|       0|     3| 2.0|    3|    1| 21.075|      0.0|\n",
      "|       1|     3|27.0|    0|    2|11.1333|      1.0|\n",
      "|       1|     2|14.0|    1|    0|30.0708|      1.0|\n",
      "|       1|     3| 4.0|    1|    1|   16.7|      1.0|\n",
      "|       1|     1|58.0|    0|    0|  26.55|      1.0|\n",
      "|       0|     3|20.0|    0|    0|   8.05|      0.0|\n",
      "|       0|     3|39.0|    1|    5| 31.275|      0.0|\n",
      "|       0|     3|14.0|    0|    0| 7.8542|      1.0|\n",
      "|       1|     2|55.0|    0|    0|   16.0|      1.0|\n",
      "|       0|     3| 2.0|    4|    1| 29.125|      0.0|\n",
      "|       0|     3|31.0|    1|    0|   18.0|      1.0|\n",
      "|       0|     2|35.0|    0|    0|   26.0|      0.0|\n",
      "|       1|     2|34.0|    0|    0|   13.0|      0.0|\n",
      "|       1|     3|15.0|    0|    0| 8.0292|      1.0|\n",
      "+--------+------+----+-----+-----+-------+---------+\n",
      "only showing top 20 rows\n",
      "\n"
     ]
    }
   ],
   "source": [
    "train_f.show()"
   ]
  },
  {
   "cell_type": "code",
   "execution_count": 27,
   "id": "58dbe768",
   "metadata": {},
   "outputs": [],
   "source": [
    "test_f=test_i.drop(\"Sex\")"
   ]
  },
  {
   "cell_type": "code",
   "execution_count": 28,
   "id": "5b5880dd",
   "metadata": {},
   "outputs": [
    {
     "name": "stdout",
     "output_type": "stream",
     "text": [
      "+--------+------+----+-----+-----+-------+---------+\n",
      "|Survived|Pclass| Age|SibSp|Parch|   Fare|index_sex|\n",
      "+--------+------+----+-----+-----+-------+---------+\n",
      "|       0|     3|22.0|    1|    0|   7.25|      0.0|\n",
      "|       1|     1|38.0|    1|    0|71.2833|      1.0|\n",
      "|       1|     3|26.0|    0|    0|  7.925|      1.0|\n",
      "|       1|     1|35.0|    1|    0|   53.1|      1.0|\n",
      "|       0|     3|35.0|    0|    0|   8.05|      0.0|\n",
      "|       0|     1|54.0|    0|    0|51.8625|      0.0|\n",
      "|       0|     3| 2.0|    3|    1| 21.075|      0.0|\n",
      "|       1|     3|27.0|    0|    2|11.1333|      1.0|\n",
      "|       1|     2|14.0|    1|    0|30.0708|      1.0|\n",
      "|       1|     3| 4.0|    1|    1|   16.7|      1.0|\n",
      "|       1|     1|58.0|    0|    0|  26.55|      1.0|\n",
      "|       0|     3|20.0|    0|    0|   8.05|      0.0|\n",
      "|       0|     3|39.0|    1|    5| 31.275|      0.0|\n",
      "|       0|     3|14.0|    0|    0| 7.8542|      1.0|\n",
      "|       1|     2|55.0|    0|    0|   16.0|      1.0|\n",
      "|       0|     3| 2.0|    4|    1| 29.125|      0.0|\n",
      "|       0|     3|31.0|    1|    0|   18.0|      1.0|\n",
      "|       0|     2|35.0|    0|    0|   26.0|      0.0|\n",
      "|       1|     2|34.0|    0|    0|   13.0|      0.0|\n",
      "|       1|     3|15.0|    0|    0| 8.0292|      1.0|\n",
      "+--------+------+----+-----+-----+-------+---------+\n",
      "only showing top 20 rows\n",
      "\n"
     ]
    }
   ],
   "source": [
    "test_f.show()"
   ]
  },
  {
   "cell_type": "code",
   "execution_count": 29,
   "id": "85a9b296",
   "metadata": {},
   "outputs": [],
   "source": [
    "from pyspark.ml.feature import VectorAssembler"
   ]
  },
  {
   "cell_type": "code",
   "execution_count": 30,
   "id": "1981cd1c",
   "metadata": {},
   "outputs": [],
   "source": [
    "train_out=VectorAssembler(inputCols=[\"index_sex\",\"Parch\",\"SibSp\",\"Pclass\",\"Fare\",\"Age\"],outputCol=\"Features\")"
   ]
  },
  {
   "cell_type": "code",
   "execution_count": 31,
   "id": "ee1319f6",
   "metadata": {},
   "outputs": [],
   "source": [
    "train_out_f=train_out.transform(train_f)"
   ]
  },
  {
   "cell_type": "code",
   "execution_count": 32,
   "id": "55364815",
   "metadata": {},
   "outputs": [],
   "source": [
    "final_train=train_out_f.select([\"features\",\"Survived\"])"
   ]
  },
  {
   "cell_type": "code",
   "execution_count": 33,
   "id": "d2130be8",
   "metadata": {},
   "outputs": [
    {
     "name": "stdout",
     "output_type": "stream",
     "text": [
      "+--------------------+--------+\n",
      "|            features|Survived|\n",
      "+--------------------+--------+\n",
      "|[0.0,0.0,1.0,3.0,...|       0|\n",
      "|[1.0,0.0,1.0,1.0,...|       1|\n",
      "|[1.0,0.0,0.0,3.0,...|       1|\n",
      "|[1.0,0.0,1.0,1.0,...|       1|\n",
      "|[0.0,0.0,0.0,3.0,...|       0|\n",
      "|[0.0,0.0,0.0,1.0,...|       0|\n",
      "|[0.0,1.0,3.0,3.0,...|       0|\n",
      "|[1.0,2.0,0.0,3.0,...|       1|\n",
      "|[1.0,0.0,1.0,2.0,...|       1|\n",
      "|[1.0,1.0,1.0,3.0,...|       1|\n",
      "|[1.0,0.0,0.0,1.0,...|       1|\n",
      "|[0.0,0.0,0.0,3.0,...|       0|\n",
      "|[0.0,5.0,1.0,3.0,...|       0|\n",
      "|[1.0,0.0,0.0,3.0,...|       0|\n",
      "|[1.0,0.0,0.0,2.0,...|       1|\n",
      "|[0.0,1.0,4.0,3.0,...|       0|\n",
      "|[1.0,0.0,1.0,3.0,...|       0|\n",
      "|[0.0,0.0,0.0,2.0,...|       0|\n",
      "|[0.0,0.0,0.0,2.0,...|       1|\n",
      "|[1.0,0.0,0.0,3.0,...|       1|\n",
      "+--------------------+--------+\n",
      "only showing top 20 rows\n",
      "\n"
     ]
    }
   ],
   "source": [
    "final_train.show()"
   ]
  },
  {
   "cell_type": "code",
   "execution_count": 34,
   "id": "b9d2ff08",
   "metadata": {},
   "outputs": [],
   "source": [
    "test_out=VectorAssembler(inputCols=[\"index_sex\",\"Parch\",\"SibSp\",\"Pclass\",\"Fare\",\"Age\"],outputCol=\"Features\")"
   ]
  },
  {
   "cell_type": "code",
   "execution_count": 35,
   "id": "4f90578e",
   "metadata": {},
   "outputs": [],
   "source": [
    "test_out_f=test_out.transform(test_f)"
   ]
  },
  {
   "cell_type": "code",
   "execution_count": 36,
   "id": "c9dee287",
   "metadata": {},
   "outputs": [],
   "source": [
    "final_test=test_out_f.select([\"features\",\"Survived\"])"
   ]
  },
  {
   "cell_type": "code",
   "execution_count": 37,
   "id": "c23a0f07",
   "metadata": {},
   "outputs": [
    {
     "name": "stdout",
     "output_type": "stream",
     "text": [
      "+--------------------+--------+\n",
      "|            features|Survived|\n",
      "+--------------------+--------+\n",
      "|[0.0,0.0,1.0,3.0,...|       0|\n",
      "|[1.0,0.0,1.0,1.0,...|       1|\n",
      "|[1.0,0.0,0.0,3.0,...|       1|\n",
      "|[1.0,0.0,1.0,1.0,...|       1|\n",
      "|[0.0,0.0,0.0,3.0,...|       0|\n",
      "|[0.0,0.0,0.0,1.0,...|       0|\n",
      "|[0.0,1.0,3.0,3.0,...|       0|\n",
      "|[1.0,2.0,0.0,3.0,...|       1|\n",
      "|[1.0,0.0,1.0,2.0,...|       1|\n",
      "|[1.0,1.0,1.0,3.0,...|       1|\n",
      "|[1.0,0.0,0.0,1.0,...|       1|\n",
      "|[0.0,0.0,0.0,3.0,...|       0|\n",
      "|[0.0,5.0,1.0,3.0,...|       0|\n",
      "|[1.0,0.0,0.0,3.0,...|       0|\n",
      "|[1.0,0.0,0.0,2.0,...|       1|\n",
      "|[0.0,1.0,4.0,3.0,...|       0|\n",
      "|[1.0,0.0,1.0,3.0,...|       0|\n",
      "|[0.0,0.0,0.0,2.0,...|       0|\n",
      "|[0.0,0.0,0.0,2.0,...|       1|\n",
      "|[1.0,0.0,0.0,3.0,...|       1|\n",
      "+--------------------+--------+\n",
      "only showing top 20 rows\n",
      "\n"
     ]
    }
   ],
   "source": [
    "final_test.show()"
   ]
  },
  {
   "cell_type": "code",
   "execution_count": 38,
   "id": "afd93d82",
   "metadata": {},
   "outputs": [],
   "source": [
    "from pyspark.ml.classification import LogisticRegression"
   ]
  },
  {
   "cell_type": "code",
   "execution_count": 39,
   "id": "4a5d2087",
   "metadata": {},
   "outputs": [],
   "source": [
    "log_model=LogisticRegression(labelCol=\"Survived\").fit(final_train)"
   ]
  },
  {
   "cell_type": "code",
   "execution_count": 40,
   "id": "bef84816",
   "metadata": {},
   "outputs": [
    {
     "data": {
      "text/plain": [
       "LogisticRegressionModel: uid=LogisticRegression_804c09c29dff, numClasses=2, numFeatures=6"
      ]
     },
     "execution_count": 40,
     "metadata": {},
     "output_type": "execute_result"
    }
   ],
   "source": [
    "log_model"
   ]
  },
  {
   "cell_type": "code",
   "execution_count": 41,
   "id": "063062fe",
   "metadata": {},
   "outputs": [],
   "source": [
    "train_results=log_model.evaluate(final_train).predictions"
   ]
  },
  {
   "cell_type": "code",
   "execution_count": 42,
   "id": "c3e36a92",
   "metadata": {},
   "outputs": [
    {
     "name": "stdout",
     "output_type": "stream",
     "text": [
      "+--------------------+--------+--------------------+--------------------+----------+\n",
      "|            features|Survived|       rawPrediction|         probability|prediction|\n",
      "+--------------------+--------+--------------------+--------------------+----------+\n",
      "|[0.0,0.0,1.0,3.0,...|       0|[2.29963916029357...|[0.90884714998743...|       0.0|\n",
      "|[1.0,0.0,1.0,1.0,...|       1|[-2.2547758410167...|[0.09493830603519...|       1.0|\n",
      "|[1.0,0.0,0.0,3.0,...|       1|[-0.5366080016452...|[0.36897699972906...|       1.0|\n",
      "|[1.0,0.0,1.0,1.0,...|       1|[-2.3473570068381...|[0.08727608101193...|       1.0|\n",
      "|[0.0,0.0,0.0,3.0,...|       0|[2.49354014973162...|[0.92368771785467...|       0.0|\n",
      "|[0.0,0.0,0.0,1.0,...|       0|[0.74950539660970...|[0.67907091802312...|       0.0|\n",
      "|[0.0,1.0,3.0,3.0,...|       0|[2.20417183865320...|[0.90062351831285...|       0.0|\n",
      "|[1.0,2.0,0.0,3.0,...|       1|[-0.3757101936792...|[0.40716196141916...|       1.0|\n",
      "|[1.0,0.0,1.0,2.0,...|       1|[-1.9783690060633...|[0.12149281019859...|       1.0|\n",
      "|[1.0,1.0,1.0,3.0,...|       1|[-1.0848272200231...|[0.25259359752968...|       1.0|\n",
      "|[1.0,0.0,0.0,1.0,...|       1|[-1.6548528379899...|[0.16045415281571...|       1.0|\n",
      "|[0.0,0.0,0.0,3.0,...|       0|[1.83425102856514...|[0.86226736691929...|       0.0|\n",
      "|[0.0,5.0,1.0,3.0,...|       0|[3.30462667445537...|[0.96458719225837...|       0.0|\n",
      "|[1.0,0.0,0.0,3.0,...|       0|[-1.0638863677344...|[0.25656746554074...|       1.0|\n",
      "|[1.0,0.0,0.0,2.0,...|       1|[-0.5216734650970...|[0.37246100491312...|       1.0|\n",
      "|[0.0,1.0,4.0,3.0,...|       0|[2.56253839872709...|[0.92841135271940...|       0.0|\n",
      "|[1.0,0.0,1.0,3.0,...|       0|[0.03714751747449...|[0.50928581157278...|       0.0|\n",
      "|[0.0,0.0,0.0,2.0,...|       0|[1.21251865535199...|[0.77074429267069...|       0.0|\n",
      "|[0.0,0.0,0.0,2.0,...|       1|[1.19664656947616...|[0.76792768974076...|       0.0|\n",
      "|[1.0,0.0,0.0,3.0,...|       1|[-1.0203117666862...|[0.26496667661130...|       1.0|\n",
      "+--------------------+--------+--------------------+--------------------+----------+\n",
      "only showing top 20 rows\n",
      "\n"
     ]
    }
   ],
   "source": [
    "train_results.show()"
   ]
  },
  {
   "cell_type": "code",
   "execution_count": 43,
   "id": "889ea85f",
   "metadata": {},
   "outputs": [],
   "source": [
    "test_results=log_model.evaluate(final_test).predictions"
   ]
  },
  {
   "cell_type": "code",
   "execution_count": 44,
   "id": "9b0d967a",
   "metadata": {},
   "outputs": [
    {
     "name": "stdout",
     "output_type": "stream",
     "text": [
      "+--------------------+--------+--------------------+--------------------+----------+\n",
      "|            features|Survived|       rawPrediction|         probability|prediction|\n",
      "+--------------------+--------+--------------------+--------------------+----------+\n",
      "|[0.0,0.0,1.0,3.0,...|       0|[2.29963916029357...|[0.90884714998743...|       0.0|\n",
      "|[1.0,0.0,1.0,1.0,...|       1|[-2.2547758410167...|[0.09493830603519...|       1.0|\n",
      "|[1.0,0.0,0.0,3.0,...|       1|[-0.5366080016452...|[0.36897699972906...|       1.0|\n",
      "|[1.0,0.0,1.0,1.0,...|       1|[-2.3473570068381...|[0.08727608101193...|       1.0|\n",
      "|[0.0,0.0,0.0,3.0,...|       0|[2.49354014973162...|[0.92368771785467...|       0.0|\n",
      "|[0.0,0.0,0.0,1.0,...|       0|[0.74950539660970...|[0.67907091802312...|       0.0|\n",
      "|[0.0,1.0,3.0,3.0,...|       0|[2.20417183865320...|[0.90062351831285...|       0.0|\n",
      "|[1.0,2.0,0.0,3.0,...|       1|[-0.3757101936792...|[0.40716196141916...|       1.0|\n",
      "|[1.0,0.0,1.0,2.0,...|       1|[-1.9783690060633...|[0.12149281019859...|       1.0|\n",
      "|[1.0,1.0,1.0,3.0,...|       1|[-1.0848272200231...|[0.25259359752968...|       1.0|\n",
      "|[1.0,0.0,0.0,1.0,...|       1|[-1.6548528379899...|[0.16045415281571...|       1.0|\n",
      "|[0.0,0.0,0.0,3.0,...|       0|[1.83425102856514...|[0.86226736691929...|       0.0|\n",
      "|[0.0,5.0,1.0,3.0,...|       0|[3.30462667445537...|[0.96458719225837...|       0.0|\n",
      "|[1.0,0.0,0.0,3.0,...|       0|[-1.0638863677344...|[0.25656746554074...|       1.0|\n",
      "|[1.0,0.0,0.0,2.0,...|       1|[-0.5216734650970...|[0.37246100491312...|       1.0|\n",
      "|[0.0,1.0,4.0,3.0,...|       0|[2.56253839872709...|[0.92841135271940...|       0.0|\n",
      "|[1.0,0.0,1.0,3.0,...|       0|[0.03714751747449...|[0.50928581157278...|       0.0|\n",
      "|[0.0,0.0,0.0,2.0,...|       0|[1.21251865535199...|[0.77074429267069...|       0.0|\n",
      "|[0.0,0.0,0.0,2.0,...|       1|[1.19664656947616...|[0.76792768974076...|       0.0|\n",
      "|[1.0,0.0,0.0,3.0,...|       1|[-1.0203117666862...|[0.26496667661130...|       1.0|\n",
      "+--------------------+--------+--------------------+--------------------+----------+\n",
      "only showing top 20 rows\n",
      "\n"
     ]
    }
   ],
   "source": [
    "test_results.show()"
   ]
  },
  {
   "cell_type": "code",
   "execution_count": 46,
   "id": "bfbea53b",
   "metadata": {},
   "outputs": [
    {
     "name": "stdout",
     "output_type": "stream",
     "text": [
      "+--------+----------+\n",
      "|Survived|prediction|\n",
      "+--------+----------+\n",
      "|       0|       0.0|\n",
      "|       1|       1.0|\n",
      "|       1|       1.0|\n",
      "|       1|       1.0|\n",
      "|       0|       0.0|\n",
      "|       0|       0.0|\n",
      "|       0|       0.0|\n",
      "|       1|       1.0|\n",
      "|       1|       1.0|\n",
      "|       1|       1.0|\n",
      "|       1|       1.0|\n",
      "|       0|       0.0|\n",
      "|       0|       0.0|\n",
      "|       0|       1.0|\n",
      "|       1|       1.0|\n",
      "|       0|       0.0|\n",
      "|       0|       0.0|\n",
      "|       0|       0.0|\n",
      "|       1|       0.0|\n",
      "|       1|       1.0|\n",
      "+--------+----------+\n",
      "only showing top 20 rows\n",
      "\n"
     ]
    }
   ],
   "source": [
    "test_results.select(\"Survived\",\"prediction\").show()"
   ]
  },
  {
   "cell_type": "code",
   "execution_count": 47,
   "id": "427c2d39",
   "metadata": {},
   "outputs": [],
   "source": [
    "tp=test_results[(test_results.Survived==1) & (test_results.prediction==1)].count()"
   ]
  },
  {
   "cell_type": "code",
   "execution_count": 48,
   "id": "f4a34cbe",
   "metadata": {},
   "outputs": [
    {
     "data": {
      "text/plain": [
       "210"
      ]
     },
     "execution_count": 48,
     "metadata": {},
     "output_type": "execute_result"
    }
   ],
   "source": [
    "tp"
   ]
  },
  {
   "cell_type": "code",
   "execution_count": 49,
   "id": "0db78def",
   "metadata": {},
   "outputs": [],
   "source": [
    "tn=test_results[(test_results.Survived==0) & (test_results.prediction==0)].count()"
   ]
  },
  {
   "cell_type": "code",
   "execution_count": 50,
   "id": "74fe0e47",
   "metadata": {},
   "outputs": [
    {
     "data": {
      "text/plain": [
       "364"
      ]
     },
     "execution_count": 50,
     "metadata": {},
     "output_type": "execute_result"
    }
   ],
   "source": [
    "tn"
   ]
  },
  {
   "cell_type": "code",
   "execution_count": 51,
   "id": "063699b6",
   "metadata": {},
   "outputs": [],
   "source": [
    "fp=test_results[(test_results.Survived==0) & (test_results.prediction==1)].count()"
   ]
  },
  {
   "cell_type": "code",
   "execution_count": 52,
   "id": "fed0cbc0",
   "metadata": {},
   "outputs": [
    {
     "data": {
      "text/plain": [
       "60"
      ]
     },
     "execution_count": 52,
     "metadata": {},
     "output_type": "execute_result"
    }
   ],
   "source": [
    "fp"
   ]
  },
  {
   "cell_type": "code",
   "execution_count": 53,
   "id": "4c9a341c",
   "metadata": {},
   "outputs": [],
   "source": [
    "fn=test_results[(test_results.Survived==1) & (test_results.prediction==0)].count()"
   ]
  },
  {
   "cell_type": "code",
   "execution_count": 54,
   "id": "51005264",
   "metadata": {},
   "outputs": [
    {
     "data": {
      "text/plain": [
       "80"
      ]
     },
     "execution_count": 54,
     "metadata": {},
     "output_type": "execute_result"
    }
   ],
   "source": [
    "fn"
   ]
  },
  {
   "cell_type": "code",
   "execution_count": 57,
   "id": "17d58259",
   "metadata": {},
   "outputs": [],
   "source": [
    "accuracy=float((tp+tn)/(test_results.count()))"
   ]
  },
  {
   "cell_type": "code",
   "execution_count": 59,
   "id": "276b805d",
   "metadata": {},
   "outputs": [
    {
     "name": "stdout",
     "output_type": "stream",
     "text": [
      "0.803921568627451\n"
     ]
    }
   ],
   "source": [
    "print(accuracy)"
   ]
  },
  {
   "cell_type": "code",
   "execution_count": 60,
   "id": "7b7e8d26",
   "metadata": {},
   "outputs": [],
   "source": [
    "from pyspark.ml.classification import DecisionTreeClassifier"
   ]
  },
  {
   "cell_type": "code",
   "execution_count": 61,
   "id": "09f0d4d8",
   "metadata": {},
   "outputs": [],
   "source": [
    "dt_model=DecisionTreeClassifier(labelCol=\"Survived\").fit(final_train)"
   ]
  },
  {
   "cell_type": "code",
   "execution_count": 63,
   "id": "a16204db",
   "metadata": {},
   "outputs": [],
   "source": [
    "dt_pre=dt_model.transform(final_test)"
   ]
  },
  {
   "cell_type": "code",
   "execution_count": 64,
   "id": "3220cd0d",
   "metadata": {},
   "outputs": [
    {
     "name": "stdout",
     "output_type": "stream",
     "text": [
      "+--------------------+--------+-------------+--------------------+----------+\n",
      "|            features|Survived|rawPrediction|         probability|prediction|\n",
      "+--------------------+--------+-------------+--------------------+----------+\n",
      "|[0.0,0.0,1.0,3.0,...|       0| [291.0,40.0]|[0.87915407854984...|       0.0|\n",
      "|[1.0,0.0,1.0,1.0,...|       1|  [8.0,149.0]|[0.05095541401273...|       1.0|\n",
      "|[1.0,0.0,0.0,3.0,...|       1|  [24.0,26.0]|         [0.48,0.52]|       1.0|\n",
      "|[1.0,0.0,1.0,1.0,...|       1|  [8.0,149.0]|[0.05095541401273...|       1.0|\n",
      "|[0.0,0.0,0.0,3.0,...|       0| [291.0,40.0]|[0.87915407854984...|       0.0|\n",
      "|[0.0,0.0,0.0,1.0,...|       0|  [43.0,17.0]|[0.71666666666666...|       0.0|\n",
      "|[0.0,1.0,3.0,3.0,...|       0|    [8.0,1.0]|[0.88888888888888...|       0.0|\n",
      "|[1.0,2.0,0.0,3.0,...|       1|  [24.0,26.0]|         [0.48,0.52]|       1.0|\n",
      "|[1.0,0.0,1.0,2.0,...|       1|  [8.0,149.0]|[0.05095541401273...|       1.0|\n",
      "|[1.0,1.0,1.0,3.0,...|       1|   [5.0,17.0]|[0.22727272727272...|       1.0|\n",
      "|[1.0,0.0,0.0,1.0,...|       1|  [8.0,149.0]|[0.05095541401273...|       1.0|\n",
      "|[0.0,0.0,0.0,3.0,...|       0| [291.0,40.0]|[0.87915407854984...|       0.0|\n",
      "|[0.0,5.0,1.0,3.0,...|       0| [291.0,40.0]|[0.87915407854984...|       0.0|\n",
      "|[1.0,0.0,0.0,3.0,...|       0|   [5.0,17.0]|[0.22727272727272...|       1.0|\n",
      "|[1.0,0.0,0.0,2.0,...|       1|  [8.0,149.0]|[0.05095541401273...|       1.0|\n",
      "|[0.0,1.0,4.0,3.0,...|       0|    [8.0,1.0]|[0.88888888888888...|       0.0|\n",
      "|[1.0,0.0,1.0,3.0,...|       0|  [24.0,26.0]|         [0.48,0.52]|       1.0|\n",
      "|[0.0,0.0,0.0,2.0,...|       0| [291.0,40.0]|[0.87915407854984...|       0.0|\n",
      "|[0.0,0.0,0.0,2.0,...|       1| [291.0,40.0]|[0.87915407854984...|       0.0|\n",
      "|[1.0,0.0,0.0,3.0,...|       1|   [5.0,17.0]|[0.22727272727272...|       1.0|\n",
      "+--------------------+--------+-------------+--------------------+----------+\n",
      "only showing top 20 rows\n",
      "\n"
     ]
    }
   ],
   "source": [
    "dt_pre.show()"
   ]
  },
  {
   "cell_type": "code",
   "execution_count": 65,
   "id": "47044466",
   "metadata": {},
   "outputs": [],
   "source": [
    "d_tp=dt_pre[(dt_pre.Survived==1) & (dt_pre.prediction==1)].count()"
   ]
  },
  {
   "cell_type": "code",
   "execution_count": 66,
   "id": "d912e181",
   "metadata": {},
   "outputs": [
    {
     "data": {
      "text/plain": [
       "219"
      ]
     },
     "execution_count": 66,
     "metadata": {},
     "output_type": "execute_result"
    }
   ],
   "source": [
    "d_tp"
   ]
  },
  {
   "cell_type": "code",
   "execution_count": 67,
   "id": "f763bf5e",
   "metadata": {},
   "outputs": [],
   "source": [
    "d_tn=dt_pre[(dt_pre.Survived==0) & (dt_pre.prediction==0)].count()"
   ]
  },
  {
   "cell_type": "code",
   "execution_count": 68,
   "id": "92154cd3",
   "metadata": {},
   "outputs": [
    {
     "data": {
      "text/plain": [
       "383"
      ]
     },
     "execution_count": 68,
     "metadata": {},
     "output_type": "execute_result"
    }
   ],
   "source": [
    "d_tn"
   ]
  },
  {
   "cell_type": "code",
   "execution_count": 70,
   "id": "88230a6f",
   "metadata": {},
   "outputs": [],
   "source": [
    "d_fp=dt_pre[(dt_pre.Survived==0) & (dt_pre.prediction==1)].count()"
   ]
  },
  {
   "cell_type": "code",
   "execution_count": 71,
   "id": "5a22f0d4",
   "metadata": {},
   "outputs": [
    {
     "data": {
      "text/plain": [
       "41"
      ]
     },
     "execution_count": 71,
     "metadata": {},
     "output_type": "execute_result"
    }
   ],
   "source": [
    "d_fp"
   ]
  },
  {
   "cell_type": "code",
   "execution_count": 72,
   "id": "b30d3661",
   "metadata": {},
   "outputs": [],
   "source": [
    "d_fn=dt_pre[(dt_pre.Survived==1) & (dt_pre.prediction==0)].count()"
   ]
  },
  {
   "cell_type": "code",
   "execution_count": 73,
   "id": "efec8694",
   "metadata": {},
   "outputs": [
    {
     "data": {
      "text/plain": [
       "71"
      ]
     },
     "execution_count": 73,
     "metadata": {},
     "output_type": "execute_result"
    }
   ],
   "source": [
    "d_fn"
   ]
  },
  {
   "cell_type": "code",
   "execution_count": 74,
   "id": "69822d3d",
   "metadata": {},
   "outputs": [],
   "source": [
    "dt_acc=float((d_tp+d_tn)/dt_pre.count())"
   ]
  },
  {
   "cell_type": "code",
   "execution_count": null,
   "id": "c2313166",
   "metadata": {},
   "outputs": [],
   "source": []
  },
  {
   "cell_type": "code",
   "execution_count": 75,
   "id": "217d1ca2",
   "metadata": {},
   "outputs": [
    {
     "data": {
      "text/plain": [
       "0.8431372549019608"
      ]
     },
     "execution_count": 75,
     "metadata": {},
     "output_type": "execute_result"
    }
   ],
   "source": [
    "dt_acc"
   ]
  },
  {
   "cell_type": "code",
   "execution_count": 77,
   "id": "8f18f7b1",
   "metadata": {},
   "outputs": [
    {
     "name": "stdout",
     "output_type": "stream",
     "text": [
      "Decision Tree Accuracy :  0.8431372549019608\n"
     ]
    }
   ],
   "source": [
    "print(\"Decision Tree Accuracy : \",dt_acc)"
   ]
  },
  {
   "cell_type": "markdown",
   "id": "57ef2903",
   "metadata": {},
   "source": [
    "# Random Forest"
   ]
  },
  {
   "cell_type": "code",
   "execution_count": 78,
   "id": "8e8fb280",
   "metadata": {},
   "outputs": [],
   "source": [
    "from pyspark.ml.classification import RandomForestClassifier"
   ]
  },
  {
   "cell_type": "code",
   "execution_count": 98,
   "id": "14324c04",
   "metadata": {},
   "outputs": [],
   "source": [
    "rf_model=RandomForestClassifier(labelCol=\"Survived\",numTrees=50).fit(final_train)"
   ]
  },
  {
   "cell_type": "code",
   "execution_count": 99,
   "id": "47194ead",
   "metadata": {},
   "outputs": [],
   "source": [
    "rf_pre=rf_model.transform(final_test)"
   ]
  },
  {
   "cell_type": "code",
   "execution_count": 100,
   "id": "47cec66a",
   "metadata": {},
   "outputs": [
    {
     "name": "stdout",
     "output_type": "stream",
     "text": [
      "+--------------------+--------+--------------------+--------------------+----------+\n",
      "|            features|Survived|       rawPrediction|         probability|prediction|\n",
      "+--------------------+--------+--------------------+--------------------+----------+\n",
      "|[0.0,0.0,1.0,3.0,...|       0|[43.5531235550920...|[0.87106247110184...|       0.0|\n",
      "|[1.0,0.0,1.0,1.0,...|       1|[2.43457470779091...|[0.04869149415581...|       1.0|\n",
      "|[1.0,0.0,0.0,3.0,...|       1|[25.5357648581966...|[0.51071529716393...|       0.0|\n",
      "|[1.0,0.0,1.0,1.0,...|       1|[2.43457470779091...|[0.04869149415581...|       1.0|\n",
      "|[0.0,0.0,0.0,3.0,...|       0|[43.9073058298085...|[0.87814611659617...|       0.0|\n",
      "|[0.0,0.0,0.0,1.0,...|       0|[36.0571220025085...|[0.72114244005017...|       0.0|\n",
      "|[0.0,1.0,3.0,3.0,...|       0|[44.6158729681107...|[0.89231745936221...|       0.0|\n",
      "|[1.0,2.0,0.0,3.0,...|       1|[19.2551935283204...|[0.38510387056640...|       1.0|\n",
      "|[1.0,0.0,1.0,2.0,...|       1|[5.41998327253453...|[0.10839966545069...|       1.0|\n",
      "|[1.0,1.0,1.0,3.0,...|       1|[12.6759559484769...|[0.25351911896953...|       1.0|\n",
      "|[1.0,0.0,0.0,1.0,...|       1|[5.75964354145509...|[0.11519287082910...|       1.0|\n",
      "|[0.0,0.0,0.0,3.0,...|       0|[43.3789327333397...|[0.86757865466679...|       0.0|\n",
      "|[0.0,5.0,1.0,3.0,...|       0|[43.1454319237505...|[0.86290863847501...|       0.0|\n",
      "|[1.0,0.0,0.0,3.0,...|       0|[21.1826903204092...|[0.42365380640818...|       1.0|\n",
      "|[1.0,0.0,0.0,2.0,...|       1|[10.4557162124261...|[0.20911432424852...|       1.0|\n",
      "|[0.0,1.0,4.0,3.0,...|       0|[44.0599886922036...|[0.88119977384407...|       0.0|\n",
      "|[1.0,0.0,1.0,3.0,...|       0|[26.8161977096249...|[0.53632395419249...|       0.0|\n",
      "|[0.0,0.0,0.0,2.0,...|       0|[41.3485935403841...|[0.82697187080768...|       0.0|\n",
      "|[0.0,0.0,0.0,2.0,...|       1|[42.9235882311987...|[0.85847176462397...|       0.0|\n",
      "|[1.0,0.0,0.0,3.0,...|       1|[20.7273331775521...|[0.41454666355104...|       1.0|\n",
      "+--------------------+--------+--------------------+--------------------+----------+\n",
      "only showing top 20 rows\n",
      "\n"
     ]
    }
   ],
   "source": [
    "rf_pre.show()"
   ]
  },
  {
   "cell_type": "code",
   "execution_count": 101,
   "id": "1d03a6f9",
   "metadata": {},
   "outputs": [
    {
     "name": "stdout",
     "output_type": "stream",
     "text": [
      "+--------+----------+\n",
      "|Survived|prediction|\n",
      "+--------+----------+\n",
      "|       0|       0.0|\n",
      "|       1|       1.0|\n",
      "|       1|       0.0|\n",
      "|       1|       1.0|\n",
      "|       0|       0.0|\n",
      "|       0|       0.0|\n",
      "|       0|       0.0|\n",
      "|       1|       1.0|\n",
      "|       1|       1.0|\n",
      "|       1|       1.0|\n",
      "|       1|       1.0|\n",
      "|       0|       0.0|\n",
      "|       0|       0.0|\n",
      "|       0|       1.0|\n",
      "|       1|       1.0|\n",
      "|       0|       0.0|\n",
      "|       0|       0.0|\n",
      "|       0|       0.0|\n",
      "|       1|       0.0|\n",
      "|       1|       1.0|\n",
      "+--------+----------+\n",
      "only showing top 20 rows\n",
      "\n"
     ]
    }
   ],
   "source": [
    "rf_pre.select(\"Survived\",\"prediction\").show()"
   ]
  },
  {
   "cell_type": "code",
   "execution_count": 102,
   "id": "b821e9bf",
   "metadata": {},
   "outputs": [],
   "source": [
    "rf_tp=rf_pre[(rf_pre.Survived==1) & (rf_pre.prediction==1)].count()"
   ]
  },
  {
   "cell_type": "code",
   "execution_count": 103,
   "id": "0a07f7b2",
   "metadata": {},
   "outputs": [
    {
     "data": {
      "text/plain": [
       "205"
      ]
     },
     "execution_count": 103,
     "metadata": {},
     "output_type": "execute_result"
    }
   ],
   "source": [
    "rf_tp"
   ]
  },
  {
   "cell_type": "code",
   "execution_count": 104,
   "id": "6f933a02",
   "metadata": {},
   "outputs": [],
   "source": [
    "rf_tn=rf_pre[(rf_pre.Survived==0) & (rf_pre.prediction==0)].count()"
   ]
  },
  {
   "cell_type": "code",
   "execution_count": 105,
   "id": "ae740b3d",
   "metadata": {},
   "outputs": [
    {
     "data": {
      "text/plain": [
       "405"
      ]
     },
     "execution_count": 105,
     "metadata": {},
     "output_type": "execute_result"
    }
   ],
   "source": [
    "rf_tn"
   ]
  },
  {
   "cell_type": "code",
   "execution_count": 106,
   "id": "dd2dfc03",
   "metadata": {},
   "outputs": [],
   "source": [
    "rf_fp=rf_pre[(rf_pre.Survived==0) & (rf_pre.prediction==1)].count()"
   ]
  },
  {
   "cell_type": "code",
   "execution_count": 107,
   "id": "e31a716b",
   "metadata": {},
   "outputs": [
    {
     "data": {
      "text/plain": [
       "19"
      ]
     },
     "execution_count": 107,
     "metadata": {},
     "output_type": "execute_result"
    }
   ],
   "source": [
    "rf_fp"
   ]
  },
  {
   "cell_type": "code",
   "execution_count": 108,
   "id": "381dcfc5",
   "metadata": {},
   "outputs": [],
   "source": [
    "rf_fn=rf_pre[(rf_pre.Survived==1) & (rf_pre.prediction==0)].count()"
   ]
  },
  {
   "cell_type": "code",
   "execution_count": 109,
   "id": "12c83cf9",
   "metadata": {},
   "outputs": [
    {
     "data": {
      "text/plain": [
       "85"
      ]
     },
     "execution_count": 109,
     "metadata": {},
     "output_type": "execute_result"
    }
   ],
   "source": [
    "rf_fn"
   ]
  },
  {
   "cell_type": "code",
   "execution_count": 110,
   "id": "afa9ebcc",
   "metadata": {},
   "outputs": [],
   "source": [
    "rf_acc=float((rf_tp+rf_tn)/rf_pre.count())"
   ]
  },
  {
   "cell_type": "code",
   "execution_count": 111,
   "id": "448f50d0",
   "metadata": {},
   "outputs": [
    {
     "data": {
      "text/plain": [
       "0.8543417366946778"
      ]
     },
     "execution_count": 111,
     "metadata": {},
     "output_type": "execute_result"
    }
   ],
   "source": [
    "rf_acc"
   ]
  },
  {
   "cell_type": "code",
   "execution_count": 112,
   "id": "e5c487eb",
   "metadata": {},
   "outputs": [
    {
     "name": "stdout",
     "output_type": "stream",
     "text": [
      "Random forest accuracy :  0.8543417366946778\n"
     ]
    }
   ],
   "source": [
    "print(\"Random forest accuracy : \",rf_acc)"
   ]
  },
  {
   "cell_type": "code",
   "execution_count": 113,
   "id": "ae4cea47",
   "metadata": {},
   "outputs": [
    {
     "name": "stdout",
     "output_type": "stream",
     "text": [
      "+--------+-----+\n",
      "|Survived|count|\n",
      "+--------+-----+\n",
      "|       1|  342|\n",
      "|       0|  549|\n",
      "+--------+-----+\n",
      "\n"
     ]
    }
   ],
   "source": [
    "df.groupBy(\"Survived\").count().show()"
   ]
  },
  {
   "cell_type": "code",
   "execution_count": 115,
   "id": "4ce52c42",
   "metadata": {},
   "outputs": [],
   "source": [
    "from pyspark.ml.clustering import KMeans\n",
    "from pyspark.ml.evaluation import ClusteringEvaluator"
   ]
  },
  {
   "cell_type": "code",
   "execution_count": 130,
   "id": "dc1250aa",
   "metadata": {},
   "outputs": [],
   "source": [
    "kmeans=KMeans(featuresCol=\"features\",k=5).fit(final_train)"
   ]
  },
  {
   "cell_type": "code",
   "execution_count": 131,
   "id": "1ae365c4",
   "metadata": {},
   "outputs": [],
   "source": [
    "km_pre=kmeans.transform(final_test)"
   ]
  },
  {
   "cell_type": "code",
   "execution_count": 133,
   "id": "a4dcbf60",
   "metadata": {},
   "outputs": [
    {
     "name": "stdout",
     "output_type": "stream",
     "text": [
      "+--------------------+--------+----------+\n",
      "|            features|Survived|prediction|\n",
      "+--------------------+--------+----------+\n",
      "|[0.0,0.0,1.0,3.0,...|       0|         4|\n",
      "|[1.0,0.0,1.0,1.0,...|       1|         0|\n",
      "|[1.0,0.0,0.0,3.0,...|       1|         4|\n",
      "|[1.0,0.0,1.0,1.0,...|       1|         0|\n",
      "|[0.0,0.0,0.0,3.0,...|       0|         4|\n",
      "|[0.0,0.0,0.0,1.0,...|       0|         0|\n",
      "|[0.0,1.0,3.0,3.0,...|       0|         4|\n",
      "|[1.0,2.0,0.0,3.0,...|       1|         4|\n",
      "|[1.0,0.0,1.0,2.0,...|       1|         4|\n",
      "|[1.0,1.0,1.0,3.0,...|       1|         4|\n",
      "|[1.0,0.0,0.0,1.0,...|       1|         3|\n",
      "|[0.0,0.0,0.0,3.0,...|       0|         4|\n",
      "|[0.0,5.0,1.0,3.0,...|       0|         3|\n",
      "|[1.0,0.0,0.0,3.0,...|       0|         4|\n",
      "|[1.0,0.0,0.0,2.0,...|       1|         3|\n",
      "|[0.0,1.0,4.0,3.0,...|       0|         4|\n",
      "|[1.0,0.0,1.0,3.0,...|       0|         4|\n",
      "|[0.0,0.0,0.0,2.0,...|       0|         3|\n",
      "|[0.0,0.0,0.0,2.0,...|       1|         4|\n",
      "|[1.0,0.0,0.0,3.0,...|       1|         4|\n",
      "+--------------------+--------+----------+\n",
      "only showing top 20 rows\n",
      "\n"
     ]
    }
   ],
   "source": [
    "km_pre.show()"
   ]
  },
  {
   "cell_type": "code",
   "execution_count": 134,
   "id": "388352b0",
   "metadata": {},
   "outputs": [
    {
     "name": "stdout",
     "output_type": "stream",
     "text": [
      "+--------+-----+\n",
      "|Survived|count|\n",
      "+--------+-----+\n",
      "|       1|  290|\n",
      "|       0|  424|\n",
      "+--------+-----+\n",
      "\n"
     ]
    }
   ],
   "source": [
    "km_pre.groupBy(\"Survived\").count().show()"
   ]
  },
  {
   "cell_type": "code",
   "execution_count": 135,
   "id": "2d01286e",
   "metadata": {},
   "outputs": [
    {
     "name": "stdout",
     "output_type": "stream",
     "text": [
      "+----------+-----+\n",
      "|prediction|count|\n",
      "+----------+-----+\n",
      "|         1|   25|\n",
      "|         3|  172|\n",
      "|         4|  401|\n",
      "|         2|    3|\n",
      "|         0|  113|\n",
      "+----------+-----+\n",
      "\n"
     ]
    }
   ],
   "source": [
    "km_pre.groupBy(\"prediction\").count().show()"
   ]
  },
  {
   "cell_type": "code",
   "execution_count": null,
   "id": "80cb3b11",
   "metadata": {},
   "outputs": [],
   "source": []
  }
 ],
 "metadata": {
  "kernelspec": {
   "display_name": "Python 3 (ipykernel)",
   "language": "python",
   "name": "python3"
  },
  "language_info": {
   "codemirror_mode": {
    "name": "ipython",
    "version": 3
   },
   "file_extension": ".py",
   "mimetype": "text/x-python",
   "name": "python",
   "nbconvert_exporter": "python",
   "pygments_lexer": "ipython3",
   "version": "3.10.6"
  }
 },
 "nbformat": 4,
 "nbformat_minor": 5
}
